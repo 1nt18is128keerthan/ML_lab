{
 "cells": [
  {
   "cell_type": "code",
   "execution_count": 1,
   "metadata": {},
   "outputs": [
    {
     "name": "stdout",
     "output_type": "stream",
     "text": [
      "50.0\n"
     ]
    }
   ],
   "source": [
    "mylist = [10,20,40,80,100]\n",
    "def mean(mylist):\n",
    "    s=sum(mylist)\n",
    "    m=s/len(mylist)\n",
    "    return m\n",
    "\n",
    "print(mean(mylist)) "
   ]
  },
  {
   "cell_type": "code",
   "execution_count": 6,
   "metadata": {},
   "outputs": [
    {
     "name": "stdout",
     "output_type": "stream",
     "text": [
      "40\n"
     ]
    }
   ],
   "source": [
    "def median(mylist):\n",
    "    n=len(mylist)\n",
    "    mylist.sort()\n",
    "    if n%2==0:\n",
    "        med1=mylist[n//2]\n",
    "        med2=mylist[(n//2)+1]\n",
    "        med=(med1+med2)/2\n",
    "        \n",
    "    else:\n",
    "        med=mylist[n//2]\n",
    "    \n",
    "    return med\n",
    "    \n",
    "print(median(mylist))\n",
    "    "
   ]
  },
  {
   "cell_type": "code",
   "execution_count": 9,
   "metadata": {},
   "outputs": [
    {
     "name": "stdout",
     "output_type": "stream",
     "text": [
      "{100}\n"
     ]
    }
   ],
   "source": [
    "mylist.append(100)k for (k,v) in d1.items() if v == max(L1)\n",
    "\n",
    "def mode(mylist):\n",
    "    mylist.sort()\n",
    "    l=[]\n",
    "    i=0\n",
    "    \n",
    "    while i<len(mylist):\n",
    "        l.append(mylist.count(mylist[i]))\n",
    "        i+=1\n",
    "        \n",
    "    d1=dict(zip(mylist,l))\n",
    "    d2={k for (k,v) in d1.items() if v == max(l)}\n",
    "    return d2\n",
    "\n",
    "print(mode(mylist))"
   ]
  },
  {
   "cell_type": "code",
   "execution_count": null,
   "metadata": {},
   "outputs": [],
   "source": []
  }
 ],
 "metadata": {
  "kernelspec": {
   "display_name": "Python 3",
   "language": "python",
   "name": "python3"
  },
  "language_info": {
   "codemirror_mode": {
    "name": "ipython",
    "version": 3
   },
   "file_extension": ".py",
   "mimetype": "text/x-python",
   "name": "python",
   "nbconvert_exporter": "python",
   "pygments_lexer": "ipython3",
   "version": "3.8.5"
  }
 },
 "nbformat": 4,
 "nbformat_minor": 4
}
