{
 "cells": [
  {
   "cell_type": "code",
   "execution_count": 3,
   "metadata": {},
   "outputs": [
    {
     "name": "stdout",
     "output_type": "stream",
     "text": [
      "146.28738838327794\n"
     ]
    }
   ],
   "source": [
    "mlist=[100,200,150,350,500]\n",
    "\n",
    "def stdev(mlist):\n",
    "    m=sum(mlist)/len(mlist)\n",
    "    var=sum([((x - m) ** 2) for x in mlist]) / len(mlist)\n",
    "    sd=(var)**0.5 \n",
    "    return sd\n",
    "\n",
    "print(stdev(mlist))"
   ]
  },
  {
   "cell_type": "code",
   "execution_count": 6,
   "metadata": {},
   "outputs": [
    {
     "name": "stdout",
     "output_type": "stream",
     "text": [
      "[0.0, 0.25, 0.125, 0.625, 1.0]\n"
     ]
    }
   ],
   "source": [
    "def normal(mlist):\n",
    "    max_m=max(mlist)\n",
    "    min_m=min(mlist)\n",
    "    nor=[]\n",
    "    \n",
    "    for a in mlist:\n",
    "        norm=(a-min_m)/(max_m-min_m)\n",
    "        nor.append(norm)\n",
    "        \n",
    "    return nor\n",
    "\n",
    "print(normal(mlist))"
   ]
  },
  {
   "cell_type": "code",
   "execution_count": 8,
   "metadata": {},
   "outputs": [
    {
     "name": "stdout",
     "output_type": "stream",
     "text": [
      "[-1.093737483239461, -0.41015155621479793, -0.7519445197271295, 0.6152273343221969, 1.6406062248591917]\n"
     ]
    }
   ],
   "source": [
    "def stdn(mlist):\n",
    "    m=sum(mlist)/len(mlist)\n",
    "    sd=stdev(mlist)\n",
    "    std=[]\n",
    "    \n",
    "    for i in mlist:\n",
    "        a= (i-m)/sd\n",
    "        std.append(a)\n",
    "        \n",
    "        \n",
    "    return std\n",
    "\n",
    "print(stdn(mlist))"
   ]
  },
  {
   "cell_type": "code",
   "execution_count": null,
   "metadata": {},
   "outputs": [],
   "source": []
  }
 ],
 "metadata": {
  "kernelspec": {
   "display_name": "Python 3",
   "language": "python",
   "name": "python3"
  },
  "language_info": {
   "codemirror_mode": {
    "name": "ipython",
    "version": 3
   },
   "file_extension": ".py",
   "mimetype": "text/x-python",
   "name": "python",
   "nbconvert_exporter": "python",
   "pygments_lexer": "ipython3",
   "version": "3.8.5"
  }
 },
 "nbformat": 4,
 "nbformat_minor": 4
}
